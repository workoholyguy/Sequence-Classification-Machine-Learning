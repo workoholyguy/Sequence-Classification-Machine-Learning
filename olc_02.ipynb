{
 "cells": [
  {
   "cell_type": "markdown",
   "metadata": {},
   "source": [
    "Cell 1: Import Libraries"
   ]
  },
  {
   "cell_type": "code",
   "execution_count": 2,
   "metadata": {},
   "outputs": [],
   "source": [
    "import networkx as nx\n",
    "import matplotlib.pyplot as plt\n",
    "import pandas as pd\n",
    "from sklearn import svm\n",
    "from sklearn.model_selection import train_test_split\n",
    "from sklearn.metrics import classification_report, accuracy_score\n",
    "from karateclub import Graph2Vec\n"
   ]
  },
  {
   "cell_type": "markdown",
   "metadata": {},
   "source": [
    "Cell 2: Define File Reading and k-mer Generation Functions"
   ]
  },
  {
   "cell_type": "code",
   "execution_count": 4,
   "metadata": {},
   "outputs": [],
   "source": [
    "def read_sequences_from_file(filename):\n",
    "    with open(filename, 'r') as file:\n",
    "        return [line.strip().split('\\t') for line in file if line.strip()]\n",
    "\n",
    "def chop_into_kmers(sequences, k):\n",
    "    kmers = []\n",
    "    for seq, label in sequences:\n",
    "        for i in range(len(seq) - k + 1):\n",
    "            kmers.append((seq[i:i+k], label))\n",
    "    return kmers\n"
   ]
  },
  {
   "cell_type": "markdown",
   "metadata": {},
   "source": [
    "Cell 3: Define Overlap Finding Function"
   ]
  },
  {
   "cell_type": "code",
   "execution_count": 5,
   "metadata": {},
   "outputs": [],
   "source": [
    "def find_overlaps(kmers, min_overlap_length):\n",
    "    overlaps = []\n",
    "    for i, (kmer1, _) in enumerate(kmers):\n",
    "        for j, (kmer2, _) in enumerate(kmers):\n",
    "            if i != j:\n",
    "                length = min(len(kmer1), len(kmer2))\n",
    "                for ol in range(min_overlap_length, length + 1):\n",
    "                    if kmer1.endswith(kmer2[:ol]):\n",
    "                        overlaps.append((kmer1, kmer2, ol))\n",
    "                        break\n",
    "    return overlaps\n"
   ]
  },
  {
   "cell_type": "markdown",
   "metadata": {},
   "source": [
    "Cell 4: Define Graph Construction and Plotting Functions"
   ]
  },
  {
   "cell_type": "code",
   "execution_count": 6,
   "metadata": {},
   "outputs": [],
   "source": [
    "def construct_overlap_graph(overlaps):\n",
    "    graph = nx.Graph()\n",
    "    kmer_to_index = {}\n",
    "    current_index = 0\n",
    "\n",
    "    for kmer1, kmer2, weight in overlaps:\n",
    "        for kmer in (kmer1, kmer2):\n",
    "            if kmer not in kmer_to_index:\n",
    "                kmer_to_index[kmer] = current_index\n",
    "                current_index += 1\n",
    "\n",
    "        index1 = kmer_to_index[kmer1]\n",
    "        index2 = kmer_to_index[kmer2]\n",
    "        graph.add_edge(index1, index2, weight=weight)\n",
    "\n",
    "    nx.set_node_attributes(graph, {index: kmer for kmer, index in kmer_to_index.items()}, 'label')\n",
    "    return graph\n",
    "\n",
    "def plot_graph(graph, file_name='overlap_graph.png'):\n",
    "    plt.figure(figsize=(10, 10))\n",
    "    labels = nx.get_node_attributes(graph, 'label')\n",
    "    pos = nx.spring_layout(graph)\n",
    "    nx.draw(graph, pos, labels=labels, with_labels=True)\n",
    "    plt.savefig(file_name)\n",
    "    plt.close()\n"
   ]
  },
  {
   "cell_type": "markdown",
   "metadata": {},
   "source": [
    "Cell 5: Define Graph Embedding and Graph Export Functions\n"
   ]
  },
  {
   "cell_type": "code",
   "execution_count": 7,
   "metadata": {},
   "outputs": [],
   "source": [
    "def graph2vec_embedding(graph):\n",
    "    graph2vec = Graph2Vec(dimensions=64)\n",
    "    graph2vec.fit([graph])\n",
    "    return graph2vec.get_embedding()\n",
    "\n",
    "def export_graph(graph, export_file_name):\n",
    "    nx.write_graphml(graph, export_file_name)\n"
   ]
  },
  {
   "cell_type": "markdown",
   "metadata": {},
   "source": [
    "#### Cell 6: Main Function Execution\n"
   ]
  },
  {
   "cell_type": "markdown",
   "metadata": {},
   "source": [
    "<!-- def main(filename, k_values, min_overlap_values):\n",
    "    results = {}\n",
    "    sequences = read_sequences_from_file(filename)\n",
    "\n",
    "    for k in k_values:\n",
    "        kmers = chop_into_kmers(sequences, k)\n",
    "        for min_overlap in min_overlap_values:\n",
    "            overlaps = find_overlaps(kmers, min_overlap)\n",
    "            graph = construct_overlap_graph(overlaps)\n",
    "\n",
    "            plot_graph(graph, f'overlap_graph_k{k}_min{min_overlap}.png')\n",
    "            export_graph(graph, f'overlap_graph_k{k}_min{min_overlap}.graphml')\n",
    "\n",
    "            embeddings = graph2vec_embedding(graph).squeeze()\n",
    "            embeddings_df = pd.DataFrame([embeddings], index=['Graph'])\n",
    "            embeddings_df.to_csv(f'embeddings_k{k}_min{min_overlap}.csv')\n",
    "\n",
    "            y = pd.Series({kmer[:5]+'...'+kmer[-5:]: label for kmer, label in kmers})\n",
    "            X = embeddings_df\n",
    "            y = pd.Series([y.iloc[0]])\n",
    "\n",
    "            X_train, X_test, y_train, y_test = train_test_split(X, y, test_size=0.2, random_state=42)\n",
    "            classifier = svm.SVC()\n",
    "            classifier.fit(X_train, y_train)\n",
    "            y_pred = classifier.predict(X_test)\n",
    "\n",
    "            report = classification_report(y_test, y_pred, output_dict=True)\n",
    "            accuracy = accuracy_score(y_test, y_pred)\n",
    "            results[(k, min_overlap)] = {'report': report, 'accuracy': accuracy}\n",
    "\n",
    "    return results\n",
    "\n",
    "# Example usage\n",
    "filename = 'hum_med.txt'\n",
    "k_values = [100, 200, 300]\n",
    "min_overlap_values = [50, 100, 150]\n",
    "results = main(filename, k_values, min_overlap_values) -->\n"
   ]
  },
  {
   "cell_type": "markdown",
   "metadata": {},
   "source": [
    "Cell 1: Load and Preprocess Data\n"
   ]
  },
  {
   "cell_type": "code",
   "execution_count": 1,
   "metadata": {},
   "outputs": [
    {
     "ename": "NameError",
     "evalue": "name 'read_sequences_from_file' is not defined",
     "output_type": "error",
     "traceback": [
      "\u001b[1;31m---------------------------------------------------------------------------\u001b[0m",
      "\u001b[1;31mNameError\u001b[0m                                 Traceback (most recent call last)",
      "Cell \u001b[1;32mIn[1], line 3\u001b[0m\n\u001b[0;32m      1\u001b[0m \u001b[38;5;66;03m# Load sequences from file\u001b[39;00m\n\u001b[0;32m      2\u001b[0m filename \u001b[38;5;241m=\u001b[39m \u001b[38;5;124m'\u001b[39m\u001b[38;5;124minput_data/hum_med_15.txt\u001b[39m\u001b[38;5;124m'\u001b[39m\n\u001b[1;32m----> 3\u001b[0m sequences \u001b[38;5;241m=\u001b[39m read_sequences_from_file(filename)\n",
      "\u001b[1;31mNameError\u001b[0m: name 'read_sequences_from_file' is not defined"
     ]
    }
   ],
   "source": [
    "# Load sequences from file\n",
    "filename = 'input_data/hum_med_15.txt'\n",
    "sequences = read_sequences_from_file(filename)\n"
   ]
  },
  {
   "cell_type": "markdown",
   "metadata": {},
   "source": [
    "Cell 2: Generate k-mers for Each k-value\n"
   ]
  },
  {
   "cell_type": "code",
   "execution_count": 9,
   "metadata": {},
   "outputs": [],
   "source": [
    "# Generate k-mers for different k values\n",
    "k_values = [100, 200, 300]\n",
    "kmers_dict = {k: chop_into_kmers(sequences, k) for k in k_values}\n"
   ]
  },
  {
   "cell_type": "markdown",
   "metadata": {},
   "source": [
    "Cell 3: Find Overlaps and Construct Graphs\n"
   ]
  },
  {
   "cell_type": "code",
   "execution_count": null,
   "metadata": {},
   "outputs": [
    {
     "ename": "KeyboardInterrupt",
     "evalue": "",
     "output_type": "error",
     "traceback": [
      "\u001b[1;31m---------------------------------------------------------------------------\u001b[0m",
      "\u001b[1;31mKeyboardInterrupt\u001b[0m                         Traceback (most recent call last)",
      "Cell \u001b[1;32mIn[10], line 6\u001b[0m\n\u001b[0;32m      4\u001b[0m \u001b[38;5;28;01mfor\u001b[39;00m k, kmers \u001b[38;5;129;01min\u001b[39;00m kmers_dict\u001b[38;5;241m.\u001b[39mitems():\n\u001b[0;32m      5\u001b[0m     \u001b[38;5;28;01mfor\u001b[39;00m min_overlap \u001b[38;5;129;01min\u001b[39;00m min_overlap_values:\n\u001b[1;32m----> 6\u001b[0m         overlaps \u001b[38;5;241m=\u001b[39m find_overlaps(kmers, min_overlap)\n\u001b[0;32m      7\u001b[0m         graph \u001b[38;5;241m=\u001b[39m construct_overlap_graph(overlaps)\n\u001b[0;32m      8\u001b[0m         graphs[(k, min_overlap)] \u001b[38;5;241m=\u001b[39m graph\n",
      "Cell \u001b[1;32mIn[5], line 8\u001b[0m, in \u001b[0;36mfind_overlaps\u001b[1;34m(kmers, min_overlap_length)\u001b[0m\n\u001b[0;32m      6\u001b[0m length \u001b[38;5;241m=\u001b[39m \u001b[38;5;28mmin\u001b[39m(\u001b[38;5;28mlen\u001b[39m(kmer1), \u001b[38;5;28mlen\u001b[39m(kmer2))\n\u001b[0;32m      7\u001b[0m \u001b[38;5;28;01mfor\u001b[39;00m ol \u001b[38;5;129;01min\u001b[39;00m \u001b[38;5;28mrange\u001b[39m(min_overlap_length, length \u001b[38;5;241m+\u001b[39m \u001b[38;5;241m1\u001b[39m):\n\u001b[1;32m----> 8\u001b[0m     \u001b[38;5;28;01mif\u001b[39;00m kmer1\u001b[38;5;241m.\u001b[39mendswith(kmer2[:ol]):\n\u001b[0;32m      9\u001b[0m         overlaps\u001b[38;5;241m.\u001b[39mappend((kmer1, kmer2, ol))\n\u001b[0;32m     10\u001b[0m         \u001b[38;5;28;01mbreak\u001b[39;00m\n",
      "\u001b[1;31mKeyboardInterrupt\u001b[0m: "
     ]
    }
   ],
   "source": [
    "# Find overlaps and construct graphs\n",
    "min_overlap_values = [50, 100, 150]\n",
    "graphs = {}\n",
    "for k, kmers in kmers_dict.items():\n",
    "    for min_overlap in min_overlap_values:\n",
    "        overlaps = find_overlaps(kmers, min_overlap)\n",
    "        graph = construct_overlap_graph(overlaps)\n",
    "        graphs[(k, min_overlap)] = graph\n",
    "        plot_graph(graph, f'overlap_graph_k{k}_min{min_overlap}.png')\n",
    "        export_graph(graph, f'overlap_graph_k{k}_min{min_overlap}.graphml')\n"
   ]
  },
  {
   "cell_type": "markdown",
   "metadata": {},
   "source": [
    "Cell 4: Embed Graphs and Prepare Data for Classification\n"
   ]
  },
  {
   "cell_type": "code",
   "execution_count": null,
   "metadata": {},
   "outputs": [],
   "source": [
    "# Embed graphs and prepare for classification\n",
    "results = {}\n",
    "for (k, min_overlap), graph in graphs.items():\n",
    "    embeddings = graph2vec_embedding(graph).squeeze()\n",
    "    embeddings_df = pd.DataFrame([embeddings], index=['Graph'])\n",
    "    embeddings_df.to_csv(f'embeddings_k{k}_min{min_overlap}.csv')\n",
    "\n",
    "    # Assuming the class labels are from the k-mers generated with max k-value\n",
    "    y = pd.Series({kmer[:5]+'...'+kmer[-5:]: label for kmer, label in kmers_dict[max(k_values)]})\n",
    "\n",
    "    X = embeddings_df\n",
    "    y = pd.Series([y.iloc[0]])  # Dummy label for the entire graph\n",
    "    X_train, X_test, y_train, y_test = train_test_split(X, y, test_size=0.2, random_state=42)\n",
    "    \n",
    "    # Train and evaluate classifier\n",
    "    classifier = svm.SVC()\n",
    "    classifier.fit(X_train, y_train)\n",
    "    y_pred = classifier.predict(X_test)\n",
    "    \n",
    "    report = classification_report(y_test, y_pred, output_dict=True)\n",
    "    accuracy = accuracy_score(y_test, y_pred)\n",
    "    results[(k, min_overlap)] = {'report': report, 'accuracy': accuracy}\n"
   ]
  },
  {
   "cell_type": "markdown",
   "metadata": {},
   "source": [
    "Cell 5: Output Results\n"
   ]
  },
  {
   "cell_type": "code",
   "execution_count": null,
   "metadata": {},
   "outputs": [],
   "source": [
    "# Display results\n",
    "for key, result in results.items():\n",
    "    print(f\"Results for k={key[0]} and min_overlap={key[1]}:\")\n",
    "    print(f\"Accuracy: {result['accuracy']}\")\n",
    "    print(\"Classification Report:\")\n",
    "    print(result['report'])\n"
   ]
  }
 ],
 "metadata": {
  "kernelspec": {
   "display_name": "Anaconda3 (base)",
   "language": "python",
   "name": "base"
  },
  "language_info": {
   "codemirror_mode": {
    "name": "ipython",
    "version": 3
   },
   "file_extension": ".py",
   "mimetype": "text/x-python",
   "name": "python",
   "nbconvert_exporter": "python",
   "pygments_lexer": "ipython3",
   "version": "3.11.5"
  }
 },
 "nbformat": 4,
 "nbformat_minor": 2
}
